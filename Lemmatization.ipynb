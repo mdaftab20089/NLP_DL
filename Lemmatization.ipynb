{
 "cells": [
  {
   "cell_type": "markdown",
   "metadata": {},
   "source": [
    "### **Lemmatization in NLP**  \n",
    "\n",
    "#### **What is Lemmatization?**  \n",
    "Lemmatization is an **NLP technique** used to reduce a word to its **base or dictionary form** (lemma) while ensuring that the root word is a valid word. Unlike **stemming**, which simply chops off suffixes, lemmatization **considers the meaning and context** of words using a dictionary.  \n",
    "\n",
    "---\n",
    "\n",
    "### **Example of Lemmatization vs. Stemming**  \n",
    "\n",
    "| **Word**   | **Stemming (Porter)** | **Lemmatization** |\n",
    "|------------|----------------------|------------------|\n",
    "| running    | run                   | run             |\n",
    "| better     | better                 | good            |\n",
    "| studies    | studi                  | study           |\n",
    "| mice       | mice                   | mouse           |\n",
    "| happiness  | happi                  | happiness       |\n",
    "\n",
    "As you can see, **lemmatization provides real words**, whereas **stemming might produce non-words**.\n",
    "\n",
    "---\n",
    "\n",
    "### **How Lemmatization Works**  \n",
    "Lemmatization relies on:  \n",
    "✅ A **dictionary** to find correct lemmas.  \n",
    "✅ **Part of Speech (POS)** to determine the correct form (e.g., \"better\" → \"good\" as an adjective).  \n",
    "\n",
    "If no **POS tag** is provided, words are usually treated as **nouns**.\n",
    "\n",
    "---\n",
    "\n",
    "## **How to Use Lemmatization in Python?**  \n",
    "### **1. Using WordNetLemmatizer (NLTK)**  \n",
    "NLTK provides **WordNet Lemmatizer**, which requires a **POS tag** for better accuracy.  \n",
    "\n",
    "\n",
    "```\n",
    "\n",
    "- `\"pos='v'\"` tells the lemmatizer that \"running\" is a **verb**.  \n",
    "- `\"pos='a'\"` tells the lemmatizer that \"better\" is an **adjective** (so it converts it to \"good\").  \n",
    "- If **no POS tag is provided**, it assumes the word is a **noun**.\n",
    "\n",
    "---\n",
    "\n",
    "```\n",
    "Here, spaCy:  \n",
    "✅ Converts **\"flying\" → \"fly\"**  \n",
    "✅ Converts **\"better\" → \"good\"** automatically  \n",
    "\n",
    "---\n",
    "\n",
    "## **Stemming vs. Lemmatization**  \n",
    "\n",
    "| Feature        | **Stemming**      | **Lemmatization** |\n",
    "|---------------|------------------|------------------|\n",
    "| **Approach**  | Rule-based (suffix removal) | Dictionary-based (meaningful words) |\n",
    "| **Speed**     | Faster            | Slower (needs dictionary lookup) |\n",
    "| **Accuracy**  | Lower (may create non-words) | Higher (produces real words) |\n",
    "| **Handles Context?** | No  | Yes |\n",
    "| **Example**   | \"running\" → \"runn\" | \"running\" → \"run\" |\n",
    "\n",
    "---\n",
    "\n",
    "### **When to Use Lemmatization vs. Stemming?**  \n",
    "✅ **Use Lemmatization** when **accuracy matters** (e.g., Chatbots, Text Summarization, Search Engines).  \n",
    "✅ **Use Stemming** when **speed is more important** (e.g., quick keyword extraction).  \n",
    "\n",
    "Would you like a **real-world example** of using lemmatization in a text-processing pipeline? 🚀"
   ]
  },
  {
   "cell_type": "code",
   "execution_count": null,
   "metadata": {},
   "outputs": [],
   "source": []
  },
  {
   "cell_type": "code",
   "execution_count": 2,
   "metadata": {},
   "outputs": [],
   "source": [
    "#### **Example: Basic Lemmatization**  \n",
    "\n",
    "from nltk.stem import WordNetLemmatizer\n"
   ]
  },
  {
   "cell_type": "code",
   "execution_count": 8,
   "metadata": {},
   "outputs": [
    {
     "name": "stderr",
     "output_type": "stream",
     "text": [
      "[nltk_data] Downloading package wordnet to\n",
      "[nltk_data]     C:\\Users\\Aftab\\AppData\\Roaming\\nltk_data...\n"
     ]
    },
    {
     "data": {
      "text/plain": [
       "True"
      ]
     },
     "execution_count": 8,
     "metadata": {},
     "output_type": "execute_result"
    }
   ],
   "source": [
    "import nltk\n",
    "nltk.download('wordnet')"
   ]
  },
  {
   "cell_type": "code",
   "execution_count": 9,
   "metadata": {},
   "outputs": [],
   "source": [
    "lemmatizer = WordNetLemmatizer()\n"
   ]
  },
  {
   "cell_type": "code",
   "execution_count": 10,
   "metadata": {},
   "outputs": [
    {
     "name": "stdout",
     "output_type": "stream",
     "text": [
      "running\n",
      "run\n",
      "good\n"
     ]
    }
   ],
   "source": [
    "lemmatizer = WordNetLemmatizer()\n",
    "print(lemmatizer.lemmatize(\"running\"))  # Output: running (default is noun)\n",
    "print(lemmatizer.lemmatize(\"running\", pos=\"v\"))  # Output: run (verb form)\n",
    "print(lemmatizer.lemmatize(\"better\", pos=\"a\"))  # Output: good (adjective form)"
   ]
  },
  {
   "cell_type": "code",
   "execution_count": 11,
   "metadata": {},
   "outputs": [
    {
     "data": {
      "text/plain": [
       "('sportingly', 'fairly')"
      ]
     },
     "execution_count": 11,
     "metadata": {},
     "output_type": "execute_result"
    }
   ],
   "source": [
    "lemmatizer.lemmatize('sportingly'),lemmatizer.lemmatize('fairly')"
   ]
  },
  {
   "cell_type": "code",
   "execution_count": null,
   "metadata": {},
   "outputs": [],
   "source": []
  },
  {
   "cell_type": "code",
   "execution_count": null,
   "metadata": {},
   "outputs": [],
   "source": []
  }
 ],
 "metadata": {
  "kernelspec": {
   "display_name": "base",
   "language": "python",
   "name": "python3"
  },
  "language_info": {
   "codemirror_mode": {
    "name": "ipython",
    "version": 3
   },
   "file_extension": ".py",
   "mimetype": "text/x-python",
   "name": "python",
   "nbconvert_exporter": "python",
   "pygments_lexer": "ipython3",
   "version": "3.11.7"
  }
 },
 "nbformat": 4,
 "nbformat_minor": 2
}
